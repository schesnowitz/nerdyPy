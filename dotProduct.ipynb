{
  "nbformat": 4,
  "nbformat_minor": 0,
  "metadata": {
    "colab": {
      "provenance": [],
      "authorship_tag": "ABX9TyMNw/FZohKW+wknwHxCmWAo",
      "include_colab_link": true
    },
    "kernelspec": {
      "name": "python3",
      "display_name": "Python 3"
    },
    "language_info": {
      "name": "python"
    }
  },
  "cells": [
    {
      "cell_type": "markdown",
      "metadata": {
        "id": "view-in-github",
        "colab_type": "text"
      },
      "source": [
        "<a href=\"https://colab.research.google.com/github/schesnowitz/nerdyPy/blob/main/dotProduct.ipynb\" target=\"_parent\"><img src=\"https://colab.research.google.com/assets/colab-badge.svg\" alt=\"Open In Colab\"/></a>"
      ]
    },
    {
      "cell_type": "code",
      "source": [
        "import numpy as np\n",
        "def dotFunc(a, b):\n",
        "    if not isinstance(a, np.ndarray) and isinstance(b, np.ndarray):\n",
        "        raise Exception(print(\"One or both inputs were not valid arrays\"))\n",
        "\n",
        "    if len(a) != len(b):\n",
        "        raise Exception(print(\"Both arrays need to be equal lenth\"))\n",
        "    return sum(a*b)\n",
        "\n",
        "\n",
        "# creating an empty list\n",
        "list_1 = []\n",
        "  \n",
        "# number of elements as input\n",
        "n = int(input(\"Enter number of elements : \"))\n",
        "  \n",
        "# iterating till the range\n",
        "count = 1\n",
        "for i in range(0, n):\n",
        "    int_input = int(input(f\"number {count}: \"))\n",
        "    count = count + 1\n",
        "    list_1.append(int_input) # adding the element\n",
        "array_1 = np.array(list_1)\n",
        "\n",
        "\n",
        "# creating an empty list\n",
        "list_2 = []\n",
        "  \n",
        "# number of elements as input\n",
        "n = n\n",
        "print('enter the elements for the second array')\n",
        "# iterating till the range\n",
        "count = 1\n",
        "for i in range(0, n):\n",
        "    int_input = int(input(f\"number {count}: \"))\n",
        "    count = count + 1\n",
        "    list_2.append(int_input) # adding the element\n",
        "array_2 = np.array(list_2)\n",
        "\n",
        "\n",
        "dotFunc(array_1, array_2)\n"
      ],
      "metadata": {
        "colab": {
          "base_uri": "https://localhost:8080/"
        },
        "id": "yqS9Fr4In2tQ",
        "outputId": "74319dc6-d39c-49fa-f5f1-bab68cca8687"
      },
      "execution_count": 62,
      "outputs": [
        {
          "name": "stdout",
          "output_type": "stream",
          "text": [
            "Enter number of elements : 2\n",
            "number 1: 1\n",
            "number 2: 2\n",
            "enter the elements for the second array\n",
            "number 1: 2\n",
            "number 2: 1\n"
          ]
        },
        {
          "output_type": "execute_result",
          "data": {
            "text/plain": [
              "4"
            ]
          },
          "metadata": {},
          "execution_count": 62
        }
      ]
    },
    {
      "cell_type": "markdown",
      "source": [
        "get input\n",
        "convert to array\n"
      ],
      "metadata": {
        "id": "8MbPnqTep-SI"
      }
    }
  ]
}