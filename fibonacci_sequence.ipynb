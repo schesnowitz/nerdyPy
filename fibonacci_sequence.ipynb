{
  "nbformat": 4,
  "nbformat_minor": 0,
  "metadata": {
    "colab": {
      "provenance": [],
      "authorship_tag": "ABX9TyMXb8Mv7fepzA9TiOTbFdtO",
      "include_colab_link": true
    },
    "kernelspec": {
      "name": "python3",
      "display_name": "Python 3"
    },
    "language_info": {
      "name": "python"
    }
  },
  "cells": [
    {
      "cell_type": "markdown",
      "metadata": {
        "id": "view-in-github",
        "colab_type": "text"
      },
      "source": [
        "<a href=\"https://colab.research.google.com/github/schesnowitz/nerdyPy/blob/main/fibonacci_sequence.ipynb\" target=\"_parent\"><img src=\"https://colab.research.google.com/assets/colab-badge.svg\" alt=\"Open In Colab\"/></a>"
      ]
    },
    {
      "cell_type": "code",
      "execution_count": 11,
      "metadata": {
        "colab": {
          "base_uri": "https://localhost:8080/"
        },
        "id": "l-SQp5uA7H-G",
        "outputId": "32b4d351-197b-4ff9-e5be-21e757b99134"
      },
      "outputs": [
        {
          "output_type": "execute_result",
          "data": {
            "text/plain": [
              "[0, 1, 1, 2, 3, 5, 8]"
            ]
          },
          "metadata": {},
          "execution_count": 11
        }
      ],
      "source": [
        "def fib_calculator(sequence_range):\n",
        "    sequence = [0, 1, 1]\n",
        "    for i in range(sequence_range):\n",
        "        sequence.append(sum(sequence[-2:]))\n",
        "    return sequence   \n",
        "fib_calculator(4)         "
      ]
    },
    {
      "cell_type": "code",
      "execution_count": 23,
      "metadata": {
        "colab": {
          "base_uri": "https://localhost:8080/"
        },
        "outputId": "c86def12-6f52-4a15-95e4-6fa3332d1774",
        "id": "t3ediKdj9-Eg"
      },
      "outputs": [
        {
          "name": "stdout",
          "output_type": "stream",
          "text": [
            "Enter the range of the Fib sequence you want to run: 3\n"
          ]
        },
        {
          "output_type": "execute_result",
          "data": {
            "text/plain": [
              "[0, 1, 1, 2, 3, 5]"
            ]
          },
          "metadata": {},
          "execution_count": 23
        }
      ],
      "source": [
        "user_seq = int(input(\"Enter the range of the Fib sequence you want to run: \"))\n",
        "def fib_calculator(sequence_range):\n",
        "    sequence = [0, 1, 1]\n",
        "    for i in range(sequence_range):\n",
        "        # more readable\n",
        "        get_last_two_numbers = (sequence[-2:])\n",
        "        sum_last_two_numbers = sum(sequence[-2:])\n",
        "        sequence.append(sum_last_two_numbers)\n",
        "    return sequence\n",
        "fib_calculator(user_seq)     "
      ]
    },
    {
      "cell_type": "markdown",
      "source": [
        "The Fibonacci sequence is a set of integers (the Fibonacci numbers) that starts with a zero, followed by a one, then by another one, and then by a series of steadily increasing numbers. The sequence follows the rule that each number is equal to the sum of the preceding two numbers."
      ],
      "metadata": {
        "id": "zaFvwoMg_mBk"
      }
    }
  ]
}