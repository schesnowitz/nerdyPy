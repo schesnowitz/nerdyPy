{
  "nbformat": 4,
  "nbformat_minor": 0,
  "metadata": {
    "colab": {
      "provenance": [],
      "authorship_tag": "ABX9TyOX/drpd4XEBasfN0+bRtLa",
      "include_colab_link": true
    },
    "kernelspec": {
      "name": "python3",
      "display_name": "Python 3"
    },
    "language_info": {
      "name": "python"
    }
  },
  "cells": [
    {
      "cell_type": "markdown",
      "metadata": {
        "id": "view-in-github",
        "colab_type": "text"
      },
      "source": [
        "<a href=\"https://colab.research.google.com/github/schesnowitz/nerdyPy/blob/main/fizzbuzz.ipynb\" target=\"_parent\"><img src=\"https://colab.research.google.com/assets/colab-badge.svg\" alt=\"Open In Colab\"/></a>"
      ]
    },
    {
      "cell_type": "code",
      "execution_count": 20,
      "metadata": {
        "colab": {
          "base_uri": "https://localhost:8080/"
        },
        "id": "9RBuTcnDWMqs",
        "outputId": "6f93dfde-1b53-4bbf-ad61-61fa387cccac"
      },
      "outputs": [
        {
          "output_type": "stream",
          "name": "stdout",
          "text": [
            "1\n",
            "2\n",
            "3 Fizz\n",
            "4\n",
            "5 Buzz\n",
            "6 Fizz\n",
            "7\n",
            "8\n",
            "9 Fizz\n",
            "10 Buzz\n",
            "11\n",
            "12 Fizz\n",
            "13\n",
            "14\n",
            "15 FizzBuzz\n",
            "16\n",
            "17\n",
            "18 Fizz\n",
            "19\n",
            "20 Buzz\n",
            "21 Fizz\n",
            "22\n",
            "23\n",
            "24 Fizz\n",
            "25 Buzz\n",
            "26\n",
            "27 Fizz\n",
            "28\n",
            "29\n",
            "30 FizzBuzz\n",
            "31\n",
            "32\n",
            "33 Fizz\n",
            "34\n",
            "35 Buzz\n",
            "36 Fizz\n",
            "37\n",
            "38\n",
            "39 Fizz\n",
            "40 Buzz\n",
            "41\n",
            "42 Fizz\n",
            "43\n",
            "44\n",
            "45 FizzBuzz\n",
            "46\n",
            "47\n",
            "48 Fizz\n",
            "49\n"
          ]
        }
      ],
      "source": [
        "r = (1, 50)\n",
        "\n",
        "for i in range(1, 50):\n",
        "    if i % 3 == 0 and i % 5 ==0:\n",
        "        print(f\"{i} FizzBuzz\")\n",
        "    elif i % 3 == 0:\n",
        "        print(f\"{i} Fizz\")\n",
        "    elif i % 5 == 0:\n",
        "        print(f\"{i} Buzz\")\n",
        "    else:\n",
        "        print(i)    \n"
      ]
    },
    {
      "cell_type": "code",
      "source": [
        "for i in range(1, 101):\n",
        "    if i % 3 == 0 and i % 5 == 0:\n",
        "        print ('FizzBuzz')\n",
        "    elif i % 3 == 0:\n",
        "        print ('Fizz')\n",
        "    elif i % 5 == 0:\n",
        "        print ('Buzz')\n",
        "    else:\n",
        "        print (str(i))"
      ],
      "metadata": {
        "colab": {
          "base_uri": "https://localhost:8080/"
        },
        "id": "JPC6CV-NfzIn",
        "outputId": "8599e0f1-b52b-42e2-d877-3b2041a715c0"
      },
      "execution_count": 17,
      "outputs": [
        {
          "output_type": "stream",
          "name": "stdout",
          "text": [
            "1\n",
            "2\n",
            "Fizz\n",
            "4\n",
            "Buzz\n",
            "Fizz\n",
            "7\n",
            "8\n",
            "Fizz\n",
            "Buzz\n",
            "11\n",
            "Fizz\n",
            "13\n",
            "14\n",
            "FizzBuzz\n",
            "16\n",
            "17\n",
            "Fizz\n",
            "19\n",
            "Buzz\n",
            "Fizz\n",
            "22\n",
            "23\n",
            "Fizz\n",
            "Buzz\n",
            "26\n",
            "Fizz\n",
            "28\n",
            "29\n",
            "FizzBuzz\n",
            "31\n",
            "32\n",
            "Fizz\n",
            "34\n",
            "Buzz\n",
            "Fizz\n",
            "37\n",
            "38\n",
            "Fizz\n",
            "Buzz\n",
            "41\n",
            "Fizz\n",
            "43\n",
            "44\n",
            "FizzBuzz\n",
            "46\n",
            "47\n",
            "Fizz\n",
            "49\n",
            "Buzz\n",
            "Fizz\n",
            "52\n",
            "53\n",
            "Fizz\n",
            "Buzz\n",
            "56\n",
            "Fizz\n",
            "58\n",
            "59\n",
            "FizzBuzz\n",
            "61\n",
            "62\n",
            "Fizz\n",
            "64\n",
            "Buzz\n",
            "Fizz\n",
            "67\n",
            "68\n",
            "Fizz\n",
            "Buzz\n",
            "71\n",
            "Fizz\n",
            "73\n",
            "74\n",
            "FizzBuzz\n",
            "76\n",
            "77\n",
            "Fizz\n",
            "79\n",
            "Buzz\n",
            "Fizz\n",
            "82\n",
            "83\n",
            "Fizz\n",
            "Buzz\n",
            "86\n",
            "Fizz\n",
            "88\n",
            "89\n",
            "FizzBuzz\n",
            "91\n",
            "92\n",
            "Fizz\n",
            "94\n",
            "Buzz\n",
            "Fizz\n",
            "97\n",
            "98\n",
            "Fizz\n",
            "Buzz\n"
          ]
        }
      ]
    },
    {
      "cell_type": "markdown",
      "source": [
        "Write a short program that prints each number from 1 to 100 on a new line. \n",
        "\n",
        "For each multiple of 3, print \"Fizz\" instead of the number. \n",
        "\n",
        "For each multiple of 5, print \"Buzz\" instead of the number. \n",
        "\n",
        "For numbers which are multiples of both 3 and 5, print \"FizzBuzz\" instead of the number."
      ],
      "metadata": {
        "id": "WKojMsnIWN55"
      }
    }
  ]
}