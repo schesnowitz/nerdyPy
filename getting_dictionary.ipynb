{
  "nbformat": 4,
  "nbformat_minor": 0,
  "metadata": {
    "colab": {
      "provenance": [],
      "authorship_tag": "ABX9TyOeQoWxT/7OkIANYbPCstuT",
      "include_colab_link": true
    },
    "kernelspec": {
      "name": "python3",
      "display_name": "Python 3"
    },
    "language_info": {
      "name": "python"
    }
  },
  "cells": [
    {
      "cell_type": "markdown",
      "metadata": {
        "id": "view-in-github",
        "colab_type": "text"
      },
      "source": [
        "<a href=\"https://colab.research.google.com/github/schesnowitz/nerdyPy/blob/main/getting_dictionary.ipynb\" target=\"_parent\"><img src=\"https://colab.research.google.com/assets/colab-badge.svg\" alt=\"Open In Colab\"/></a>"
      ]
    },
    {
      "cell_type": "code",
      "source": [
        "D = {}\n",
        "numA = int(input(\"enter number a: \"))\n",
        "numB = int(input(\"enter number b: \"))\n",
        "product = numA * numB\n",
        "D = {\"numA\": numA, \"numB\":numB, \"Product\":product}\n",
        "\n",
        "print(D.get(\"Product\"))\n",
        "D.items()"
      ],
      "metadata": {
        "colab": {
          "base_uri": "https://localhost:8080/"
        },
        "id": "0wY8VenMf23C",
        "outputId": "861851ba-6336-4eef-e588-132936577544"
      },
      "execution_count": 1,
      "outputs": [
        {
          "output_type": "stream",
          "name": "stdout",
          "text": [
            "enter number a: 8\n",
            "enter number b: 4\n",
            "32\n"
          ]
        },
        {
          "output_type": "execute_result",
          "data": {
            "text/plain": [
              "dict_items([('numA', 8), ('numB', 4), ('Product', 32)])"
            ]
          },
          "metadata": {},
          "execution_count": 1
        }
      ]
    },
    {
      "cell_type": "code",
      "source": [
        "list = [2,3 ,[9, 4, 5], 4]\n",
        "print(list[2][2])"
      ],
      "metadata": {
        "colab": {
          "base_uri": "https://localhost:8080/"
        },
        "id": "YFLpDYRcmCvx",
        "outputId": "fdf01fe3-19ab-49f9-e9e5-e6036d4780e5"
      },
      "execution_count": 6,
      "outputs": [
        {
          "output_type": "stream",
          "name": "stdout",
          "text": [
            "5\n"
          ]
        }
      ]
    },
    {
      "cell_type": "code",
      "source": [
        "listOlist = [4, \"hi\",[5, 8, 9], \"hey now\", {\"Driver\" : \"cute\", \"Snow\" : \"cold\"}]\n",
        "print(listOlist[4].get(\"Snow\"))\n",
        "print(listOlist[4][\"Snow\"])"
      ],
      "metadata": {
        "colab": {
          "base_uri": "https://localhost:8080/"
        },
        "id": "HNdOcD24rlZ7",
        "outputId": "8c2eb7f5-dfa6-404d-9879-ebb9f43ad4e5"
      },
      "execution_count": 23,
      "outputs": [
        {
          "output_type": "stream",
          "name": "stdout",
          "text": [
            "cold\n",
            "cold\n"
          ]
        }
      ]
    },
    {
      "cell_type": "code",
      "source": [],
      "metadata": {
        "id": "C6nOb_D5s0cS"
      },
      "execution_count": null,
      "outputs": []
    }
  ]
}