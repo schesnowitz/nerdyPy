{
  "nbformat": 4,
  "nbformat_minor": 0,
  "metadata": {
    "colab": {
      "provenance": [],
      "authorship_tag": "ABX9TyOiRP4eRqfGvYMA21GGH+zo",
      "include_colab_link": true
    },
    "kernelspec": {
      "name": "python3",
      "display_name": "Python 3"
    },
    "language_info": {
      "name": "python"
    }
  },
  "cells": [
    {
      "cell_type": "markdown",
      "metadata": {
        "id": "view-in-github",
        "colab_type": "text"
      },
      "source": [
        "<a href=\"https://colab.research.google.com/github/schesnowitz/nerdyPy/blob/main/pandasNumpy1.ipynb\" target=\"_parent\"><img src=\"https://colab.research.google.com/assets/colab-badge.svg\" alt=\"Open In Colab\"/></a>"
      ]
    },
    {
      "cell_type": "code",
      "source": [
        "import pandas as pd\n",
        "import numpy as np\n",
        "\n",
        "var1 = np.random.randn(100)*5 + 20\n",
        "\n",
        "# print(var1)\n",
        "# print(np.mean(var1))\n",
        "\n",
        "var2 = np.random.randn(100)>0\n",
        "# print(var2)\n",
        "labels = [\"Temp (C)\", \"Ice Cream Eaten\"]\n",
        "\n",
        "# create a dictionary\n",
        "\n",
        "D = {labels[0]: var1, labels[1]: var2}\n",
        "\n",
        "df = pd.DataFrame(data=D)\n",
        "# print(df)\n",
        "\n",
        "print(df.head(20))\n",
        "# print(df.count())"
      ],
      "metadata": {
        "colab": {
          "base_uri": "https://localhost:8080/"
        },
        "id": "bkQWSd_bSoEz",
        "outputId": "c7102227-2dc0-4674-d42c-30306f4e8fe6"
      },
      "execution_count": 29,
      "outputs": [
        {
          "output_type": "stream",
          "name": "stdout",
          "text": [
            "     Temp (C)  Ice Cream Eaten\n",
            "0   14.742434            False\n",
            "1   12.649058             True\n",
            "2   25.592682            False\n",
            "3   15.408273            False\n",
            "4   11.817975            False\n",
            "5   15.513233             True\n",
            "6   21.958340            False\n",
            "7   10.740117            False\n",
            "8   17.819924             True\n",
            "9   25.870606             True\n",
            "10  12.744196             True\n",
            "11  26.332432            False\n",
            "12  22.560510             True\n",
            "13  20.760345            False\n",
            "14  14.294344            False\n",
            "15  18.987916            False\n",
            "16  17.900201            False\n",
            "17  20.139231             True\n",
            "18  25.415151            False\n",
            "19  20.543434            False\n"
          ]
        }
      ]
    },
    {
      "cell_type": "code",
      "source": [
        "import pandas as pd\n",
        "import numpy as np\n",
        "\n",
        "titles = [\"The Numbers\", \"Squared\", \"Brown Log\"]\n",
        "\n",
        "ints = np.array(range(11))\n",
        "log = np.log(ints)\n",
        "sqr = np.sqrt(ints)\n",
        "dta = {titles[0] : ints, titles[1] : ints**2, titles[2] : log}\n",
        "\n",
        "df = pd.DataFrame(dta)\n",
        "print(df)"
      ],
      "metadata": {
        "colab": {
          "base_uri": "https://localhost:8080/"
        },
        "id": "8Sl7J-V0YnCf",
        "outputId": "f423cba0-648e-493c-a8cb-41cc76d3f0fe"
      },
      "execution_count": 33,
      "outputs": [
        {
          "output_type": "stream",
          "name": "stdout",
          "text": [
            "    The Numbers  Squared  Brown Log\n",
            "0             0        0       -inf\n",
            "1             1        1   0.000000\n",
            "2             2        4   0.693147\n",
            "3             3        9   1.098612\n",
            "4             4       16   1.386294\n",
            "5             5       25   1.609438\n",
            "6             6       36   1.791759\n",
            "7             7       49   1.945910\n",
            "8             8       64   2.079442\n",
            "9             9       81   2.197225\n",
            "10           10      100   2.302585\n"
          ]
        },
        {
          "output_type": "stream",
          "name": "stderr",
          "text": [
            "<ipython-input-33-f65524cda2c0>:7: RuntimeWarning: divide by zero encountered in log\n",
            "  log = np.log(ints)\n"
          ]
        }
      ]
    }
  ]
}