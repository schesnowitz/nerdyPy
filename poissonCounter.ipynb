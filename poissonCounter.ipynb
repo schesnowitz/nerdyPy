{
  "nbformat": 4,
  "nbformat_minor": 0,
  "metadata": {
    "colab": {
      "provenance": [],
      "authorship_tag": "ABX9TyMaxrxx3wtu85UgsTD/DWFf",
      "include_colab_link": true
    },
    "kernelspec": {
      "name": "python3",
      "display_name": "Python 3"
    },
    "language_info": {
      "name": "python"
    }
  },
  "cells": [
    {
      "cell_type": "markdown",
      "metadata": {
        "id": "view-in-github",
        "colab_type": "text"
      },
      "source": [
        "<a href=\"https://colab.research.google.com/github/schesnowitz/nerdyPy/blob/main/poissonCounter.ipynb\" target=\"_parent\"><img src=\"https://colab.research.google.com/assets/colab-badge.svg\" alt=\"Open In Colab\"/></a>"
      ]
    },
    {
      "cell_type": "code",
      "execution_count": 3,
      "metadata": {
        "colab": {
          "base_uri": "https://localhost:8080/"
        },
        "id": "GDt-M-pNhIAS",
        "outputId": "2f0d9179-bbb0-4854-99d6-bb8d928e8ae1"
      },
      "outputs": [
        {
          "output_type": "execute_result",
          "data": {
            "text/plain": [
              "7"
            ]
          },
          "metadata": {},
          "execution_count": 3
        }
      ],
      "source": [
        "import numpy as np\n",
        "\n",
        "def poissonCounter(lam):\n",
        "    #  initialize vars\n",
        "    count = 0\n",
        "    current_value = 1\n",
        "    target_value = np.exp(-lam)\n",
        "\n",
        "    #  run algorithm\n",
        "    while current_value > target_value:\n",
        "        count += 1\n",
        "        current_value = current_value * np.random.rand()\n",
        "    # return result (counter)\n",
        "    return count\n",
        "poissonCounter(10)"
      ]
    }
  ]
}