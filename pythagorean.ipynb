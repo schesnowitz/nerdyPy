{
  "nbformat": 4,
  "nbformat_minor": 0,
  "metadata": {
    "colab": {
      "provenance": [],
      "authorship_tag": "ABX9TyNJbMqEBxwqzaEJeIGl6Rg7",
      "include_colab_link": true
    },
    "kernelspec": {
      "name": "python3",
      "display_name": "Python 3"
    },
    "language_info": {
      "name": "python"
    }
  },
  "cells": [
    {
      "cell_type": "markdown",
      "metadata": {
        "id": "view-in-github",
        "colab_type": "text"
      },
      "source": [
        "<a href=\"https://colab.research.google.com/github/schesnowitz/nerdyPy/blob/main/pythagorean.ipynb\" target=\"_parent\"><img src=\"https://colab.research.google.com/assets/colab-badge.svg\" alt=\"Open In Colab\"/></a>"
      ]
    },
    {
      "cell_type": "code",
      "execution_count": 18,
      "metadata": {
        "colab": {
          "base_uri": "https://localhost:8080/"
        },
        "id": "0NnlmWtz7AB5",
        "outputId": "93d55a5e-f276-4944-c25f-7e88fa27da58"
      },
      "outputs": [
        {
          "output_type": "stream",
          "name": "stdout",
          "text": [
            "enter a: 3.5\n",
            "enter b: 7.8\n",
            "8.5492689745966\n"
          ]
        }
      ],
      "source": [
        "\n",
        "import math\n",
        "# Pythagorean theorem:  A**2 + B**2 = C**2\n",
        "a = float(input(\"enter a: \"))\n",
        "b = float(input(\"enter b: \"))\n",
        "a = a**2\n",
        "b = b**2\n",
        "ab = a + b\n",
        "result = math.sqrt(ab)\n",
        "\n",
        "\n",
        "print(result)\n",
        "# %who\n"
      ]
    },
    {
      "cell_type": "code",
      "source": [],
      "metadata": {
        "id": "Jy35CrQc9A7a"
      },
      "execution_count": null,
      "outputs": []
    }
  ]
}