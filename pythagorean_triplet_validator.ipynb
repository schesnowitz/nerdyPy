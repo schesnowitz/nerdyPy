{
  "nbformat": 4,
  "nbformat_minor": 0,
  "metadata": {
    "colab": {
      "provenance": [],
      "authorship_tag": "ABX9TyPbM0ZO8XcXt76xW7AJwzH8",
      "include_colab_link": true
    },
    "kernelspec": {
      "name": "python3",
      "display_name": "Python 3"
    },
    "language_info": {
      "name": "python"
    }
  },
  "cells": [
    {
      "cell_type": "markdown",
      "metadata": {
        "id": "view-in-github",
        "colab_type": "text"
      },
      "source": [
        "<a href=\"https://colab.research.google.com/github/schesnowitz/nerdyPy/blob/main/pythagorean_triplet_validator.ipynb\" target=\"_parent\"><img src=\"https://colab.research.google.com/assets/colab-badge.svg\" alt=\"Open In Colab\"/></a>"
      ]
    },
    {
      "cell_type": "code",
      "execution_count": 5,
      "metadata": {
        "colab": {
          "base_uri": "https://localhost:8080/"
        },
        "id": "0NnlmWtz7AB5",
        "outputId": "8ebcd644-2078-48ce-de15-caf445555bde"
      },
      "outputs": [
        {
          "output_type": "stream",
          "name": "stdout",
          "text": [
            "3\n",
            "3\n"
          ]
        }
      ],
      "source": [
        "list07 = [4, 2, 24, 6, 777,7, 7, 7, 45 ,777,745, 774, 214]\n",
        "print(list07.count(7)) # 3 7s in list\n",
        "print(list07.index(6)) # first one found at index x"
      ]
    },
    {
      "cell_type": "code",
      "source": [
        "# Pythagorean Triplets\n",
        "side_a = float(input(\"enter num a: \"))\n",
        "side_b = float(input(\"enter num b: \"))\n",
        "side_c = float(input(\"enter num c: \"))\n",
        "\n",
        "is_triplet = side_a**2 + side_b**2 == side_c**2\n",
        "side_a_plus_side_b = side_a**2 + side_b**2\n",
        "\n",
        "if is_triplet:\n",
        "  text = \"also equals\"\n",
        "else:\n",
        "  text = \"equals\"\n",
        "print(f\"Do side a: {side_a**2} | side b: {side_b**2} | siide c: {side_c**2} equal a triplet? {is_triplet}: side a + side b = {side_a_plus_side_b} and side_c**2 {text} {side_c**2} \")"
      ],
      "metadata": {
        "colab": {
          "base_uri": "https://localhost:8080/"
        },
        "id": "Jy35CrQc9A7a",
        "outputId": "5c81a842-db4b-4330-82c9-b820dc5a9031"
      },
      "execution_count": 15,
      "outputs": [
        {
          "output_type": "stream",
          "name": "stdout",
          "text": [
            "enter num a: 4\n",
            "enter num b: 5\n",
            "enter num c: 6\n",
            "side a: 16.0 | side b: 25.0 | siide c: 36.0 is a triplet? False: side a + side b = 41.0 and side_c**2 equals 36.0 \n"
          ]
        }
      ]
    }
  ]
}