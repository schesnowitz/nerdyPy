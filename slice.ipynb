{
  "nbformat": 4,
  "nbformat_minor": 0,
  "metadata": {
    "colab": {
      "provenance": [],
      "authorship_tag": "ABX9TyMhGBJw7jzZrcx+L6uEPUOI",
      "include_colab_link": true
    },
    "kernelspec": {
      "name": "python3",
      "display_name": "Python 3"
    },
    "language_info": {
      "name": "python"
    }
  },
  "cells": [
    {
      "cell_type": "markdown",
      "metadata": {
        "id": "view-in-github",
        "colab_type": "text"
      },
      "source": [
        "<a href=\"https://colab.research.google.com/github/schesnowitz/nerdyPy/blob/main/slice.ipynb\" target=\"_parent\"><img src=\"https://colab.research.google.com/assets/colab-badge.svg\" alt=\"Open In Colab\"/></a>"
      ]
    },
    {
      "cell_type": "code",
      "source": [
        "text = \"v s a nigui y 45 asec cecesteaDuyecddDe\"\n",
        "\n",
        "steve_ = text[26:29] + text[:1] + text[33]\n",
        "\n",
        "is_ = text[10] + text[2]\n",
        "\n",
        "a_ = text[4]\n",
        "\n",
        "nice_ = text[6:8] + text[24:26]\n",
        "\n",
        "guy_ = text[8:10] + text[12]\n",
        "\n",
        "to_caps = f\"{steve_} {is_} {a_} {nice_} {guy_}\"\n",
        "\n",
        "print(f\"{steve_.capitalize()} {is_} {a_} {nice_} {guy_}\")\n",
        "print(to_caps.capitalize())"
      ],
      "metadata": {
        "colab": {
          "base_uri": "https://localhost:8080/"
        },
        "id": "IJj3bGjSzjQc",
        "outputId": "ccf4ec83-637a-416e-cd20-cb5080699f2d"
      },
      "execution_count": 35,
      "outputs": [
        {
          "output_type": "stream",
          "name": "stdout",
          "text": [
            "Steve is a nice guy\n",
            "Steve is a nice guy\n"
          ]
        }
      ]
    }
  ]
}