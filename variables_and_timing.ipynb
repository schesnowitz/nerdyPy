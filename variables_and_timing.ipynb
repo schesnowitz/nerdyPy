{
  "nbformat": 4,
  "nbformat_minor": 0,
  "metadata": {
    "colab": {
      "provenance": [],
      "authorship_tag": "ABX9TyOzvkXT6ngeCTYUqIOf5jiR",
      "include_colab_link": true
    },
    "kernelspec": {
      "name": "python3",
      "display_name": "Python 3"
    },
    "language_info": {
      "name": "python"
    }
  },
  "cells": [
    {
      "cell_type": "markdown",
      "metadata": {
        "id": "view-in-github",
        "colab_type": "text"
      },
      "source": [
        "<a href=\"https://colab.research.google.com/github/schesnowitz/nerdyPy/blob/main/variables_and_timing.ipynb\" target=\"_parent\"><img src=\"https://colab.research.google.com/assets/colab-badge.svg\" alt=\"Open In Colab\"/></a>"
      ]
    },
    {
      "cell_type": "code",
      "execution_count": 1,
      "metadata": {
        "colab": {
          "base_uri": "https://localhost:8080/"
        },
        "id": "6So--4k2nOaN",
        "outputId": "0a5fc6c5-b7ab-4a14-aa55-2edb42b36b40"
      },
      "outputs": [
        {
          "output_type": "execute_result",
          "data": {
            "text/plain": [
              "array([[0., 0., 0., 0., 0., 0., 0., 0., 0., 0.],\n",
              "       [0., 0., 0., 0., 0., 0., 0., 0., 0., 0.],\n",
              "       [0., 0., 0., 0., 0., 0., 0., 0., 0., 0.],\n",
              "       [0., 0., 0., 0., 0., 0., 0., 0., 0., 0.],\n",
              "       [0., 0., 0., 0., 0., 0., 0., 0., 0., 0.]])"
            ]
          },
          "metadata": {},
          "execution_count": 1
        }
      ],
      "source": [
        "import numpy as np\n",
        "x = np.zeros((5, 10))\n",
        "x\n"
      ]
    },
    {
      "cell_type": "code",
      "source": [
        "import numpy as np\n",
        "import time\n",
        "\n",
        "t = [0]*3\n",
        "N = 10\n",
        "\n",
        "\n",
        "# list append\n",
        "tic = time.perf_counter()\n",
        "data = []\n",
        "for i in range(N):\n",
        "    data.append(i**2)\n",
        "t[0] = (time.perf_counter() - tic) * 1000\n",
        "\n",
        "\n",
        "# numpy append\n",
        "tic = time.perf_counter()\n",
        "data = np.array([])\n",
        "for i in range(N):\n",
        "    data = np.append(data, i**2)\n",
        "t[1] = ((time.perf_counter() - tic) * 1000)\n",
        "\n",
        "\n",
        "# numpy initilize\n",
        "tic = time.perf_counter()\n",
        "data = np.zeros(N)\n",
        "for i in range(N):\n",
        "    data[i] = i**2\n",
        "t[2] = ((time.perf_counter() - tic) * 1000)\n",
        "\n",
        "print(t)"
      ],
      "metadata": {
        "colab": {
          "base_uri": "https://localhost:8080/"
        },
        "id": "umIy7bQ8o7RP",
        "outputId": "d9cfeb3c-a1a0-45e4-b1b2-1da920ddba35"
      },
      "execution_count": 6,
      "outputs": [
        {
          "output_type": "stream",
          "name": "stdout",
          "text": [
            "[0.12578399991980405, 0.28964000011910684, 0.15902899986031116]\n"
          ]
        }
      ]
    }
  ]
}